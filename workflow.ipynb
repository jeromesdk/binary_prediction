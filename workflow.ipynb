{
 "cells": [
  {
   "cell_type": "markdown",
   "metadata": {},
   "source": [
    "# Machine learning workflow applied to the datasets"
   ]
  },
  {
   "cell_type": "markdown",
   "metadata": {},
   "source": [
    "### Imports"
   ]
  },
  {
   "cell_type": "code",
   "execution_count": 1,
   "metadata": {},
   "outputs": [],
   "source": [
    "# import pandas as pd\n",
    "# import re\n",
    "# from sklearn.model_selection import train_test_split, ShuffleSplit\n",
    "# from typing import Tuple\n",
    "# from typing import Union\n",
    "# from sklearn.preprocessing import StandardScaler\n",
    "\n",
    "from preprocess import preprocess_data, prepare_dataset_for_training "
   ]
  },
  {
   "cell_type": "markdown",
   "metadata": {},
   "source": [
    "### Preprocess Data"
   ]
  },
  {
   "cell_type": "code",
   "execution_count": 17,
   "metadata": {},
   "outputs": [
    {
     "name": "stdout",
     "output_type": "stream",
     "text": [
      "data banknote authentication: \n",
      "           0         1         2         3    4_1\n",
      "0  1.121806  1.149455 -0.975970  0.354561  False\n",
      "1  1.447066  1.064453 -0.895036 -0.128767  False\n",
      "2  1.207810 -0.777352  0.122218  0.618073  False\n",
      "3  1.063742  1.295478 -1.255397 -1.144029  False\n",
      "4 -0.036772 -1.087038  0.736730  0.096587  False\n",
      "\n",
      "\n",
      "Kidney disease: \n",
      "          age       bgr        bu  ...  pe_yes  ane_yes  classification_notckd\n",
      "id                                ...                                        \n",
      "0  -0.210031 -0.320122 -0.419451  ...   False    False                  False\n",
      "1  -2.627234 -0.320122 -0.784315  ...   False    False                  False\n",
      "2   0.615355  3.697618 -0.074858  ...   False     True                  False\n",
      "3  -0.210031 -0.373337 -0.014047  ...    True     True                  False\n",
      "4  -0.033163 -0.519679 -0.622154  ...   False    False                  False\n",
      "\n",
      "[5 rows x 44 columns]\n"
     ]
    }
   ],
   "source": [
    "# Dataset 1 : data_banknote_authentification\n",
    "\n",
    "data_banknote = preprocess_data('data_banknote_authentication.txt')\n",
    "print('data banknote authentication: '+ '\\n',data_banknote.head())\n",
    "\n",
    "print('\\n')\n",
    "#Dataset 2 : kidney_disease\n",
    "\n",
    "kidney_disease = preprocess_data('kidney_disease.csv',index_column=0)\n",
    "print('Kidney disease: '+'\\n', kidney_disease.head())"
   ]
  },
  {
   "cell_type": "markdown",
   "metadata": {},
   "source": [
    "### Create Test-train split"
   ]
  },
  {
   "cell_type": "code",
   "execution_count": 25,
   "metadata": {},
   "outputs": [],
   "source": [
    "#For dataset 1:\n",
    "\n",
    "dba_data_train, dba_labels_train, dba_data_test, dba_labels_test = prepare_dataset_for_training(\n",
    "    data_banknote,\n",
    "    '4_1',\n",
    "    cross_validation=False\n",
    ")\n",
    "\n",
    "dba_data, dba_labels, cvp = prepare_dataset_for_training(\n",
    "    data_banknote,\n",
    "    '4_1',\n",
    "    n_splits=8\n",
    ")\n",
    "\n",
    "\n",
    "\n",
    "#For dataset 2: \n",
    "\n",
    "kd_data_train, kd_labels_train, kd_data_test, kd_labels_test = prepare_dataset_for_training(\n",
    "    kidney_disease,\n",
    "    'classification_notckd',\n",
    "    cross_validation=False\n",
    ")\n",
    "\n",
    "kd_data, kd_labels, cvp = prepare_dataset_for_training(\n",
    "    kidney_disease,\n",
    "    'classification_notckd',\n",
    "    n_splits=8\n",
    ")"
   ]
  },
  {
   "cell_type": "markdown",
   "metadata": {},
   "source": [
    "### Train"
   ]
  },
  {
   "cell_type": "code",
   "execution_count": 28,
   "metadata": {},
   "outputs": [],
   "source": [
    "#For dataset 1:\n",
    "\n",
    "dba_pred = dba_labels.copy() #TO DO\n",
    "#For dataset 2:\n",
    "\n",
    "kd_pred = kd_labels.copy() #TO DO"
   ]
  },
  {
   "cell_type": "markdown",
   "metadata": {},
   "source": [
    "### Show Results"
   ]
  },
  {
   "cell_type": "code",
   "execution_count": null,
   "metadata": {},
   "outputs": [],
   "source": []
  }
 ],
 "metadata": {
  "kernelspec": {
   "display_name": "py311",
   "language": "python",
   "name": "python3"
  },
  "language_info": {
   "codemirror_mode": {
    "name": "ipython",
    "version": 3
   },
   "file_extension": ".py",
   "mimetype": "text/x-python",
   "name": "python",
   "nbconvert_exporter": "python",
   "pygments_lexer": "ipython3",
   "version": "3.11.3"
  }
 },
 "nbformat": 4,
 "nbformat_minor": 2
}
